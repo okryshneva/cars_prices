{
 "cells": [
  {
   "cell_type": "markdown",
   "metadata": {},
   "source": [
    "# Определение стоимости автомобилей"
   ]
  },
  {
   "cell_type": "markdown",
   "metadata": {},
   "source": [
    "Сервис по продаже автомобилей с пробегом «Не бит, не крашен» разрабатывает приложение для привлечения новых клиентов. В нём можно быстро узнать рыночную стоимость своего автомобиля. В вашем распоряжении исторические данные: технические характеристики, комплектации и цены автомобилей. Вам нужно построить модель для определения стоимости. "
   ]
  },
  {
   "cell_type": "markdown",
   "metadata": {},
   "source": [
    "## Подготовка данных"
   ]
  },
  {
   "cell_type": "markdown",
   "metadata": {},
   "source": [
    "### Импорт библиотек"
   ]
  },
  {
   "cell_type": "code",
   "execution_count": 1,
   "metadata": {},
   "outputs": [],
   "source": [
    "import pandas as pd\n",
    "import numpy as np\n",
    "import seaborn as sns\n",
    "import matplotlib.pyplot as plt\n",
    "\n",
    "from sklearn.preprocessing import OrdinalEncoder, StandardScaler\n",
    "from sklearn.model_selection import train_test_split\n",
    "from sklearn.metrics import mean_squared_error\n",
    "\n",
    "from sklearn.linear_model import LinearRegression\n",
    "from sklearn.ensemble import RandomForestRegressor\n",
    "from sklearn.tree import DecisionTreeRegressor\n",
    "\n",
    "import re\n",
    "\n",
    "from IPython.display import display\n",
    "import warnings\n",
    "warnings.filterwarnings('ignore')"
   ]
  },
  {
   "cell_type": "markdown",
   "metadata": {},
   "source": [
    "### Используемые функции"
   ]
  },
  {
   "cell_type": "code",
   "execution_count": 2,
   "metadata": {},
   "outputs": [],
   "source": [
    "def snake_case(data_columns):\n",
    "    \"\"\"Функция приводящая PascalСase к snake_case\"\"\"\n",
    "    new_columns = []\n",
    "    for name in data_columns:      \n",
    "        new_columns.append(re.sub(r\"(?<=\\w)([A-Z])\", r\"_\\1\", name).lower())\n",
    "    return new_columns"
   ]
  },
  {
   "cell_type": "code",
   "execution_count": 3,
   "metadata": {},
   "outputs": [],
   "source": [
    "def data_recovery(recovery_column):\n",
    "    \"\"\"Восстановление данных в столбце\"\"\"\n",
    "    columns = ['brand','model','vehicle_type','gearbox','power','fuel_type']\n",
    "    columns.remove(recovery_column)\n",
    "    \n",
    "    #создание ключа для словаря\n",
    "    data_clean['dict_power'] = ''\n",
    "    data['power_columns'] = ''\n",
    "    for column in columns:\n",
    "        data_clean['dict_power'] += data_clean[column].astype(str)\n",
    "        data['power_columns'] += data[column].astype(str)\n",
    "        \n",
    "    #создание словаря\n",
    "    dictionary = dict(data_clean.groupby('dict_power')[recovery_column].agg(lambda x:x.value_counts(ascending=False).index[0]))\n",
    "\n",
    "    return data[recovery_column].fillna(data['power_columns'].map(dictionary))"
   ]
  },
  {
   "cell_type": "code",
   "execution_count": 4,
   "metadata": {},
   "outputs": [],
   "source": [
    "def importance_features(model):\n",
    "    \"\"\"Построение графика анализа важности факторов для обученной модели\"\"\"\n",
    "    plt.figure(figsize=(16,5))\n",
    "    ax = sns.barplot(x=features_train.columns, y=model.feature_importances_)\n",
    "    ax.set(xlabel='Признак', ylabel='Важность', title='Анализ важности признаков для обучения модели')\n",
    "    ax.set_xticklabels(features_train.columns, rotation=20, ha='right')\n",
    "    ax.grid(True)\n",
    "    return plt.show()"
   ]
  },
  {
   "cell_type": "markdown",
   "metadata": {},
   "source": [
    "### Изучение данных"
   ]
  },
  {
   "cell_type": "code",
   "execution_count": 5,
   "metadata": {
    "scrolled": true
   },
   "outputs": [
    {
     "data": {
      "text/html": [
       "<div>\n",
       "<style scoped>\n",
       "    .dataframe tbody tr th:only-of-type {\n",
       "        vertical-align: middle;\n",
       "    }\n",
       "\n",
       "    .dataframe tbody tr th {\n",
       "        vertical-align: top;\n",
       "    }\n",
       "\n",
       "    .dataframe thead th {\n",
       "        text-align: right;\n",
       "    }\n",
       "</style>\n",
       "<table border=\"1\" class=\"dataframe\">\n",
       "  <thead>\n",
       "    <tr style=\"text-align: right;\">\n",
       "      <th></th>\n",
       "      <th>DateCrawled</th>\n",
       "      <th>Price</th>\n",
       "      <th>VehicleType</th>\n",
       "      <th>RegistrationYear</th>\n",
       "      <th>Gearbox</th>\n",
       "      <th>Power</th>\n",
       "      <th>Model</th>\n",
       "      <th>Kilometer</th>\n",
       "      <th>RegistrationMonth</th>\n",
       "      <th>FuelType</th>\n",
       "      <th>Brand</th>\n",
       "      <th>NotRepaired</th>\n",
       "      <th>DateCreated</th>\n",
       "      <th>NumberOfPictures</th>\n",
       "      <th>PostalCode</th>\n",
       "      <th>LastSeen</th>\n",
       "    </tr>\n",
       "  </thead>\n",
       "  <tbody>\n",
       "    <tr>\n",
       "      <th>0</th>\n",
       "      <td>2016-03-24 11:52:17</td>\n",
       "      <td>480</td>\n",
       "      <td>NaN</td>\n",
       "      <td>1993</td>\n",
       "      <td>manual</td>\n",
       "      <td>0</td>\n",
       "      <td>golf</td>\n",
       "      <td>150000</td>\n",
       "      <td>0</td>\n",
       "      <td>petrol</td>\n",
       "      <td>volkswagen</td>\n",
       "      <td>NaN</td>\n",
       "      <td>2016-03-24</td>\n",
       "      <td>0</td>\n",
       "      <td>70435</td>\n",
       "      <td>2016-04-07 03:16:57</td>\n",
       "    </tr>\n",
       "    <tr>\n",
       "      <th>1</th>\n",
       "      <td>2016-03-24 10:58:45</td>\n",
       "      <td>18300</td>\n",
       "      <td>coupe</td>\n",
       "      <td>2011</td>\n",
       "      <td>manual</td>\n",
       "      <td>190</td>\n",
       "      <td>NaN</td>\n",
       "      <td>125000</td>\n",
       "      <td>5</td>\n",
       "      <td>gasoline</td>\n",
       "      <td>audi</td>\n",
       "      <td>yes</td>\n",
       "      <td>2016-03-24</td>\n",
       "      <td>0</td>\n",
       "      <td>66954</td>\n",
       "      <td>2016-04-07 01:46:50</td>\n",
       "    </tr>\n",
       "    <tr>\n",
       "      <th>2</th>\n",
       "      <td>2016-03-14 12:52:21</td>\n",
       "      <td>9800</td>\n",
       "      <td>suv</td>\n",
       "      <td>2004</td>\n",
       "      <td>auto</td>\n",
       "      <td>163</td>\n",
       "      <td>grand</td>\n",
       "      <td>125000</td>\n",
       "      <td>8</td>\n",
       "      <td>gasoline</td>\n",
       "      <td>jeep</td>\n",
       "      <td>NaN</td>\n",
       "      <td>2016-03-14</td>\n",
       "      <td>0</td>\n",
       "      <td>90480</td>\n",
       "      <td>2016-04-05 12:47:46</td>\n",
       "    </tr>\n",
       "    <tr>\n",
       "      <th>3</th>\n",
       "      <td>2016-03-17 16:54:04</td>\n",
       "      <td>1500</td>\n",
       "      <td>small</td>\n",
       "      <td>2001</td>\n",
       "      <td>manual</td>\n",
       "      <td>75</td>\n",
       "      <td>golf</td>\n",
       "      <td>150000</td>\n",
       "      <td>6</td>\n",
       "      <td>petrol</td>\n",
       "      <td>volkswagen</td>\n",
       "      <td>no</td>\n",
       "      <td>2016-03-17</td>\n",
       "      <td>0</td>\n",
       "      <td>91074</td>\n",
       "      <td>2016-03-17 17:40:17</td>\n",
       "    </tr>\n",
       "    <tr>\n",
       "      <th>4</th>\n",
       "      <td>2016-03-31 17:25:20</td>\n",
       "      <td>3600</td>\n",
       "      <td>small</td>\n",
       "      <td>2008</td>\n",
       "      <td>manual</td>\n",
       "      <td>69</td>\n",
       "      <td>fabia</td>\n",
       "      <td>90000</td>\n",
       "      <td>7</td>\n",
       "      <td>gasoline</td>\n",
       "      <td>skoda</td>\n",
       "      <td>no</td>\n",
       "      <td>2016-03-31</td>\n",
       "      <td>0</td>\n",
       "      <td>60437</td>\n",
       "      <td>2016-04-06 10:17:21</td>\n",
       "    </tr>\n",
       "  </tbody>\n",
       "</table>\n",
       "</div>"
      ],
      "text/plain": [
       "          DateCrawled  Price VehicleType  RegistrationYear Gearbox  Power  \\\n",
       "0 2016-03-24 11:52:17    480         NaN              1993  manual      0   \n",
       "1 2016-03-24 10:58:45  18300       coupe              2011  manual    190   \n",
       "2 2016-03-14 12:52:21   9800         suv              2004    auto    163   \n",
       "3 2016-03-17 16:54:04   1500       small              2001  manual     75   \n",
       "4 2016-03-31 17:25:20   3600       small              2008  manual     69   \n",
       "\n",
       "   Model  Kilometer  RegistrationMonth  FuelType       Brand NotRepaired  \\\n",
       "0   golf     150000                  0    petrol  volkswagen         NaN   \n",
       "1    NaN     125000                  5  gasoline        audi         yes   \n",
       "2  grand     125000                  8  gasoline        jeep         NaN   \n",
       "3   golf     150000                  6    petrol  volkswagen          no   \n",
       "4  fabia      90000                  7  gasoline       skoda          no   \n",
       "\n",
       "  DateCreated  NumberOfPictures  PostalCode            LastSeen  \n",
       "0  2016-03-24                 0       70435 2016-04-07 03:16:57  \n",
       "1  2016-03-24                 0       66954 2016-04-07 01:46:50  \n",
       "2  2016-03-14                 0       90480 2016-04-05 12:47:46  \n",
       "3  2016-03-17                 0       91074 2016-03-17 17:40:17  \n",
       "4  2016-03-31                 0       60437 2016-04-06 10:17:21  "
      ]
     },
     "metadata": {},
     "output_type": "display_data"
    }
   ],
   "source": [
    "data = pd.read_csv('autos.csv', parse_dates=[0,12,15])\n",
    "data_rows_begin = data.shape[0]\n",
    "display(data.head())"
   ]
  },
  {
   "cell_type": "markdown",
   "metadata": {},
   "source": [
    "Приведём названия столбцов к snake_case:"
   ]
  },
  {
   "cell_type": "code",
   "execution_count": 6,
   "metadata": {},
   "outputs": [],
   "source": [
    "data.columns = snake_case(data.columns)"
   ]
  },
  {
   "cell_type": "code",
   "execution_count": 7,
   "metadata": {},
   "outputs": [
    {
     "name": "stdout",
     "output_type": "stream",
     "text": [
      "<class 'pandas.core.frame.DataFrame'>\n",
      "RangeIndex: 354369 entries, 0 to 354368\n",
      "Data columns (total 16 columns):\n",
      " #   Column              Non-Null Count   Dtype         \n",
      "---  ------              --------------   -----         \n",
      " 0   date_crawled        354369 non-null  datetime64[ns]\n",
      " 1   price               354369 non-null  int64         \n",
      " 2   vehicle_type        316879 non-null  object        \n",
      " 3   registration_year   354369 non-null  int64         \n",
      " 4   gearbox             334536 non-null  object        \n",
      " 5   power               354369 non-null  int64         \n",
      " 6   model               334664 non-null  object        \n",
      " 7   kilometer           354369 non-null  int64         \n",
      " 8   registration_month  354369 non-null  int64         \n",
      " 9   fuel_type           321474 non-null  object        \n",
      " 10  brand               354369 non-null  object        \n",
      " 11  not_repaired        283215 non-null  object        \n",
      " 12  date_created        354369 non-null  datetime64[ns]\n",
      " 13  number_of_pictures  354369 non-null  int64         \n",
      " 14  postal_code         354369 non-null  int64         \n",
      " 15  last_seen           354369 non-null  datetime64[ns]\n",
      "dtypes: datetime64[ns](3), int64(7), object(6)\n",
      "memory usage: 43.3+ MB\n"
     ]
    }
   ],
   "source": [
    "data.info()"
   ]
  },
  {
   "cell_type": "markdown",
   "metadata": {},
   "source": [
    "`date_crawled` — дата скачивания анкеты из базы<br>\n",
    "`vehicle_type` — тип автомобильного кузова<br>\n",
    "`registration_year` — год регистрации автомобиля<br>\n",
    "`gearbox` — тип коробки передач<br>\n",
    "`power` — мощность (л. с.)<br>\n",
    "`model` — модель автомобиля<br>\n",
    "`kilometer` — пробег (км)<br>\n",
    "`registration_month` — месяц регистрации автомобиля<br>\n",
    "`fuel_type` — тип топлива<br>\n",
    "`brand` — марка автомобиля<br>\n",
    "`not_repaired` — была машина в ремонте или нет<br>\n",
    "`date_created` — дата создания анкеты<br>\n",
    "`number_of_pictures` — количество фотографий автомобиля<br>\n",
    "`postal_code` — почтовый индекс владельца анкеты (пользователя)<br>\n",
    "`last_seen` — дата последней активности пользователя<br>\n",
    "`price` — цена (евро)<br>"
   ]
  },
  {
   "cell_type": "markdown",
   "metadata": {},
   "source": [
    "У нас в распоряжении датасет размером (354369, 16), в котором присутствуют пропущенные значения в следующих столбцах:\n",
    "\n",
    "* vehicle_type\n",
    "* gearbox\n",
    "* model\n",
    "* fuel_type\n",
    "* not_repaired"
   ]
  },
  {
   "cell_type": "markdown",
   "metadata": {},
   "source": [
    "Рассмотрим данные на наличие аномалий:"
   ]
  },
  {
   "cell_type": "code",
   "execution_count": 8,
   "metadata": {},
   "outputs": [
    {
     "data": {
      "text/html": [
       "<div>\n",
       "<style scoped>\n",
       "    .dataframe tbody tr th:only-of-type {\n",
       "        vertical-align: middle;\n",
       "    }\n",
       "\n",
       "    .dataframe tbody tr th {\n",
       "        vertical-align: top;\n",
       "    }\n",
       "\n",
       "    .dataframe thead th {\n",
       "        text-align: right;\n",
       "    }\n",
       "</style>\n",
       "<table border=\"1\" class=\"dataframe\">\n",
       "  <thead>\n",
       "    <tr style=\"text-align: right;\">\n",
       "      <th></th>\n",
       "      <th>price</th>\n",
       "      <th>registration_year</th>\n",
       "      <th>power</th>\n",
       "      <th>kilometer</th>\n",
       "      <th>registration_month</th>\n",
       "      <th>number_of_pictures</th>\n",
       "      <th>postal_code</th>\n",
       "    </tr>\n",
       "  </thead>\n",
       "  <tbody>\n",
       "    <tr>\n",
       "      <th>count</th>\n",
       "      <td>354369.000000</td>\n",
       "      <td>354369.000000</td>\n",
       "      <td>354369.000000</td>\n",
       "      <td>354369.000000</td>\n",
       "      <td>354369.000000</td>\n",
       "      <td>354369.0</td>\n",
       "      <td>354369.000000</td>\n",
       "    </tr>\n",
       "    <tr>\n",
       "      <th>mean</th>\n",
       "      <td>4416.656776</td>\n",
       "      <td>2004.234448</td>\n",
       "      <td>110.094337</td>\n",
       "      <td>128211.172535</td>\n",
       "      <td>5.714645</td>\n",
       "      <td>0.0</td>\n",
       "      <td>50508.689087</td>\n",
       "    </tr>\n",
       "    <tr>\n",
       "      <th>std</th>\n",
       "      <td>4514.158514</td>\n",
       "      <td>90.227958</td>\n",
       "      <td>189.850405</td>\n",
       "      <td>37905.341530</td>\n",
       "      <td>3.726421</td>\n",
       "      <td>0.0</td>\n",
       "      <td>25783.096248</td>\n",
       "    </tr>\n",
       "    <tr>\n",
       "      <th>min</th>\n",
       "      <td>0.000000</td>\n",
       "      <td>1000.000000</td>\n",
       "      <td>0.000000</td>\n",
       "      <td>5000.000000</td>\n",
       "      <td>0.000000</td>\n",
       "      <td>0.0</td>\n",
       "      <td>1067.000000</td>\n",
       "    </tr>\n",
       "    <tr>\n",
       "      <th>25%</th>\n",
       "      <td>1050.000000</td>\n",
       "      <td>1999.000000</td>\n",
       "      <td>69.000000</td>\n",
       "      <td>125000.000000</td>\n",
       "      <td>3.000000</td>\n",
       "      <td>0.0</td>\n",
       "      <td>30165.000000</td>\n",
       "    </tr>\n",
       "    <tr>\n",
       "      <th>50%</th>\n",
       "      <td>2700.000000</td>\n",
       "      <td>2003.000000</td>\n",
       "      <td>105.000000</td>\n",
       "      <td>150000.000000</td>\n",
       "      <td>6.000000</td>\n",
       "      <td>0.0</td>\n",
       "      <td>49413.000000</td>\n",
       "    </tr>\n",
       "    <tr>\n",
       "      <th>75%</th>\n",
       "      <td>6400.000000</td>\n",
       "      <td>2008.000000</td>\n",
       "      <td>143.000000</td>\n",
       "      <td>150000.000000</td>\n",
       "      <td>9.000000</td>\n",
       "      <td>0.0</td>\n",
       "      <td>71083.000000</td>\n",
       "    </tr>\n",
       "    <tr>\n",
       "      <th>max</th>\n",
       "      <td>20000.000000</td>\n",
       "      <td>9999.000000</td>\n",
       "      <td>20000.000000</td>\n",
       "      <td>150000.000000</td>\n",
       "      <td>12.000000</td>\n",
       "      <td>0.0</td>\n",
       "      <td>99998.000000</td>\n",
       "    </tr>\n",
       "  </tbody>\n",
       "</table>\n",
       "</div>"
      ],
      "text/plain": [
       "               price  registration_year          power      kilometer  \\\n",
       "count  354369.000000      354369.000000  354369.000000  354369.000000   \n",
       "mean     4416.656776        2004.234448     110.094337  128211.172535   \n",
       "std      4514.158514          90.227958     189.850405   37905.341530   \n",
       "min         0.000000        1000.000000       0.000000    5000.000000   \n",
       "25%      1050.000000        1999.000000      69.000000  125000.000000   \n",
       "50%      2700.000000        2003.000000     105.000000  150000.000000   \n",
       "75%      6400.000000        2008.000000     143.000000  150000.000000   \n",
       "max     20000.000000        9999.000000   20000.000000  150000.000000   \n",
       "\n",
       "       registration_month  number_of_pictures    postal_code  \n",
       "count       354369.000000            354369.0  354369.000000  \n",
       "mean             5.714645                 0.0   50508.689087  \n",
       "std              3.726421                 0.0   25783.096248  \n",
       "min              0.000000                 0.0    1067.000000  \n",
       "25%              3.000000                 0.0   30165.000000  \n",
       "50%              6.000000                 0.0   49413.000000  \n",
       "75%              9.000000                 0.0   71083.000000  \n",
       "max             12.000000                 0.0   99998.000000  "
      ]
     },
     "execution_count": 8,
     "metadata": {},
     "output_type": "execute_result"
    }
   ],
   "source": [
    "data.describe()"
   ]
  },
  {
   "cell_type": "markdown",
   "metadata": {},
   "source": [
    "1. `registration_year` - сразу видны несколько аномальных значений, максимальный и минимальный годы 9999 и 1000. Следует проверить, какой диапазон годов в нашем распоряжении.\n",
    "2. `power` - 20000 лошадиных сил в максимальном значении, 0 в минимальном. Врядли кто-то продавал боинги через сервис по продаже автомобилей.\n",
    "\n",
    "3. `number_of_pictures` - все значения нулевые. Считаем, что бесполезный для обучения столбец, так как наличие фотографий, их количество и качество скорее повлияют на скорость продажи, чем на цену автомобиля."
   ]
  },
  {
   "cell_type": "markdown",
   "metadata": {},
   "source": [
    "### Предобработка данных"
   ]
  },
  {
   "cell_type": "markdown",
   "metadata": {},
   "source": [
    "Начнём с удаления аномалий в столбце `registration_year`. Год постановки на учёт по имеющимся у нас данным определить с высокой точностью мы не можем, максимум - определить диапазон, в зависимости от года выпуска модели. Так же, можем предположить, что это год регистрации автомобиля в отделе дорожной полиции последним владельцем после покупки, например, а не год выпуска автомобиля с завода.\n",
    "\n",
    "Также, нам неизвестно, будут ли пользоваться этим сервисом хозяины ретро-автомобилей. Такие, вероятно скорее обратятся к коллекционерам на специальные площадки, занимающиеся ретро-автомобилями. Согласно Википедиии, в США автомобиль считается ретро если выпущен за 20 и более лет до текущей даты, в Германии - 30 лет, а в России точное официальное определение и вовсе отсутствует.\n",
    "\n",
    "Так что примем, что учить модель будем на данных с `registration_year` с 1970 по 2016 годы (50 лет), считая, что оценка ретро-автомобилей всё таки намного более сложная задача, зависящая от куда более большого количества признаков. 2016 год считаем крайним, т.к. это год создания анкет."
   ]
  },
  {
   "cell_type": "code",
   "execution_count": 9,
   "metadata": {},
   "outputs": [],
   "source": [
    "data = data.query('1950 <= registration_year <= 2016')"
   ]
  },
  {
   "cell_type": "markdown",
   "metadata": {},
   "source": [
    "Перейдём к `power`. Такие данные можно восстанавливать, опираясь на уже имеющуюся информацию.\n",
    "\n",
    "Создадим копию нашего датасета, но в отличии от исходного удалим отуда все неизвестные значения."
   ]
  },
  {
   "cell_type": "code",
   "execution_count": 10,
   "metadata": {},
   "outputs": [],
   "source": [
    "clean_columns = ['brand','model','vehicle_type','gearbox','power','fuel_type']\n",
    "data_clean = data[clean_columns].copy().dropna()"
   ]
  },
  {
   "cell_type": "markdown",
   "metadata": {},
   "source": [
    "На основе `data_clean` мы сможем создавать необходимые словари для заполнения данных. Созданим такой для `power`."
   ]
  },
  {
   "cell_type": "code",
   "execution_count": 11,
   "metadata": {},
   "outputs": [],
   "source": [
    "data_clean['dict_power'] = data_clean['brand']+data_clean['model']+data_clean['vehicle_type']+data_clean['gearbox']+data_clean['fuel_type']"
   ]
  },
  {
   "cell_type": "code",
   "execution_count": 12,
   "metadata": {},
   "outputs": [
    {
     "data": {
      "text/html": [
       "<div>\n",
       "<style scoped>\n",
       "    .dataframe tbody tr th:only-of-type {\n",
       "        vertical-align: middle;\n",
       "    }\n",
       "\n",
       "    .dataframe tbody tr th {\n",
       "        vertical-align: top;\n",
       "    }\n",
       "\n",
       "    .dataframe thead th {\n",
       "        text-align: right;\n",
       "    }\n",
       "</style>\n",
       "<table border=\"1\" class=\"dataframe\">\n",
       "  <thead>\n",
       "    <tr style=\"text-align: right;\">\n",
       "      <th></th>\n",
       "      <th>brand</th>\n",
       "      <th>model</th>\n",
       "      <th>vehicle_type</th>\n",
       "      <th>gearbox</th>\n",
       "      <th>power</th>\n",
       "      <th>fuel_type</th>\n",
       "      <th>dict_power</th>\n",
       "    </tr>\n",
       "  </thead>\n",
       "  <tbody>\n",
       "    <tr>\n",
       "      <th>2</th>\n",
       "      <td>jeep</td>\n",
       "      <td>grand</td>\n",
       "      <td>suv</td>\n",
       "      <td>auto</td>\n",
       "      <td>163</td>\n",
       "      <td>gasoline</td>\n",
       "      <td>jeepgrandsuvautogasoline</td>\n",
       "    </tr>\n",
       "    <tr>\n",
       "      <th>3</th>\n",
       "      <td>volkswagen</td>\n",
       "      <td>golf</td>\n",
       "      <td>small</td>\n",
       "      <td>manual</td>\n",
       "      <td>75</td>\n",
       "      <td>petrol</td>\n",
       "      <td>volkswagengolfsmallmanualpetrol</td>\n",
       "    </tr>\n",
       "    <tr>\n",
       "      <th>4</th>\n",
       "      <td>skoda</td>\n",
       "      <td>fabia</td>\n",
       "      <td>small</td>\n",
       "      <td>manual</td>\n",
       "      <td>69</td>\n",
       "      <td>gasoline</td>\n",
       "      <td>skodafabiasmallmanualgasoline</td>\n",
       "    </tr>\n",
       "    <tr>\n",
       "      <th>5</th>\n",
       "      <td>bmw</td>\n",
       "      <td>3er</td>\n",
       "      <td>sedan</td>\n",
       "      <td>manual</td>\n",
       "      <td>102</td>\n",
       "      <td>petrol</td>\n",
       "      <td>bmw3ersedanmanualpetrol</td>\n",
       "    </tr>\n",
       "    <tr>\n",
       "      <th>6</th>\n",
       "      <td>peugeot</td>\n",
       "      <td>2_reihe</td>\n",
       "      <td>convertible</td>\n",
       "      <td>manual</td>\n",
       "      <td>109</td>\n",
       "      <td>petrol</td>\n",
       "      <td>peugeot2_reiheconvertiblemanualpetrol</td>\n",
       "    </tr>\n",
       "  </tbody>\n",
       "</table>\n",
       "</div>"
      ],
      "text/plain": [
       "        brand    model vehicle_type gearbox  power fuel_type  \\\n",
       "2        jeep    grand          suv    auto    163  gasoline   \n",
       "3  volkswagen     golf        small  manual     75    petrol   \n",
       "4       skoda    fabia        small  manual     69  gasoline   \n",
       "5         bmw      3er        sedan  manual    102    petrol   \n",
       "6     peugeot  2_reihe  convertible  manual    109    petrol   \n",
       "\n",
       "                              dict_power  \n",
       "2               jeepgrandsuvautogasoline  \n",
       "3        volkswagengolfsmallmanualpetrol  \n",
       "4          skodafabiasmallmanualgasoline  \n",
       "5                bmw3ersedanmanualpetrol  \n",
       "6  peugeot2_reiheconvertiblemanualpetrol  "
      ]
     },
     "execution_count": 12,
     "metadata": {},
     "output_type": "execute_result"
    }
   ],
   "source": [
    "data_clean.head(5)"
   ]
  },
  {
   "cell_type": "markdown",
   "metadata": {},
   "source": [
    "Да, такой набор букв (можно, конечно и пробелами разделить, но в данном случае это не важно) и будет являться ключём для восстановления данных. Создадим словарь, так как значений для одного набора данных может быть несколько - отсортируем по популярности и добавим в словарь самый часто встречающийся вариант."
   ]
  },
  {
   "cell_type": "code",
   "execution_count": 13,
   "metadata": {},
   "outputs": [],
   "source": [
    "power_dict = data_clean.groupby('dict_power')['power'].agg(lambda x:x.value_counts(ascending=False).index[0])\n",
    "power_dict = dict(power_dict[power_dict > 0])"
   ]
  },
  {
   "cell_type": "markdown",
   "metadata": {},
   "source": [
    "Теперь определим, какие именно значения мы будем заменять. Что считать слишком большой мощностью, а что - в рамках дозволенности? Например, не будем трогать `power` со значением 0. Может, хозяин этой машины по какой либо причине снял двигатель? Рассмотрим верхний край дозволенных значений через ящик с усами:"
   ]
  },
  {
   "cell_type": "code",
   "execution_count": 14,
   "metadata": {},
   "outputs": [
    {
     "data": {
      "image/png": "[encoded data removed]",
      "text/plain": [
       "<Figure size 1152x720 with 2 Axes>"
      ]
     },
     "metadata": {
      "needs_background": "light"
     },
     "output_type": "display_data"
    }
   ],
   "source": [
    "f, (ax1, ax2) = plt.subplots(2,1)\n",
    "sns.boxplot(data=data['power'], orient='horizontal', ax=ax1)\n",
    "ax1.set(xlabel='Мощность, л.с.', title='Разброс значений мощностей двигателей в л.с.')\n",
    "ax1.grid(True)\n",
    "sns.boxplot(data=data['power'], orient='horizontal', ax=ax2)\n",
    "ax2.set(xlabel='Мощность, л.с.', xlim=(-50,1000),\\\n",
    "        title='Разброс значений мощностей двигателей в л.с. (диапазон от 50 л.с. до 1000 л.с.)')\n",
    "ax2.grid(True)\n",
    "f.set_figwidth(16)\n",
    "f.set_figheight(10)"
   ]
  },
  {
   "cell_type": "markdown",
   "metadata": {},
   "source": [
    "Верхние значения могут доходить до 20000 л.с., а вот основная масса лежит в пределах 400-500 лошадиных сил. Попробуем заменить только значения, превышающие 500 л.с., а от остальных избавимся."
   ]
  },
  {
   "cell_type": "code",
   "execution_count": 15,
   "metadata": {},
   "outputs": [],
   "source": [
    "data['power_columns'] = data['brand']+data['model']+data['vehicle_type']+data['gearbox']+data['fuel_type']"
   ]
  },
  {
   "cell_type": "code",
   "execution_count": 16,
   "metadata": {},
   "outputs": [],
   "source": [
    "max_power = 500\n",
    "data.loc[data['power']>max_power,'power'] = np.nan\n",
    "data.loc[:,'power'] = data['power'].fillna(data['power_columns'].map(power_dict))\n",
    "data = data[data['power']<=max_power].reset_index(drop=True)\n",
    "data['power'] = data['power'].astype(int)"
   ]
  },
  {
   "cell_type": "markdown",
   "metadata": {},
   "source": [
    "Для того, чтобы избежать ошибок в наименованиях (например, \"range_rover\" и \"rangerover\"), уберём все знаки подчёркивания."
   ]
  },
  {
   "cell_type": "code",
   "execution_count": 17,
   "metadata": {},
   "outputs": [],
   "source": [
    "data.loc[:,'model'] = data['model'].replace(r'[_]','', regex=True)"
   ]
  },
  {
   "cell_type": "markdown",
   "metadata": {},
   "source": [
    "Теперь приступим к заполнению пропущенных значений в `vehicle_type`, `gearbox`, `model`, `fuel_type`. Будем использовать тот же способ, что и для `power`."
   ]
  },
  {
   "cell_type": "code",
   "execution_count": 18,
   "metadata": {},
   "outputs": [],
   "source": [
    "vehicle_type = data['vehicle_type'].isna().sum()\n",
    "gearbox = data['gearbox'].isna().sum()\n",
    "model = data['model'].isna().sum()\n",
    "fuel_type = data['fuel_type'].isna().sum()"
   ]
  },
  {
   "cell_type": "code",
   "execution_count": 19,
   "metadata": {},
   "outputs": [
    {
     "name": "stdout",
     "output_type": "stream",
     "text": [
      "Wall time: 1min 38s\n"
     ]
    }
   ],
   "source": [
    "%%time\n",
    "for column in ['vehicle_type','gearbox','model','fuel_type']:\n",
    "    data.loc[:,column] = data_recovery(column)\n",
    "data = data.drop(columns='power_columns')"
   ]
  },
  {
   "cell_type": "code",
   "execution_count": 20,
   "metadata": {},
   "outputs": [
    {
     "name": "stdout",
     "output_type": "stream",
     "text": [
      "Восстановлено значений:\n",
      "vehicle_type: 7059\n",
      "gearbox: 6057\n",
      "model: 7003\n",
      "fuel_type: 9392\n"
     ]
    }
   ],
   "source": [
    "print('Восстановлено значений:')\n",
    "print(f'vehicle_type: {vehicle_type - data[\"vehicle_type\"].isna().sum()}')\n",
    "print(f'gearbox: {gearbox - data[\"gearbox\"].isna().sum()}')\n",
    "print(f'model: {model - data[\"model\"].isna().sum()}')\n",
    "print(f'fuel_type: {fuel_type - data[\"fuel_type\"].isna().sum()}')"
   ]
  },
  {
   "cell_type": "markdown",
   "metadata": {},
   "source": [
    "С `not_repaired` поступим следующим образом: введём для него новое значение - unknown, так как неизвестно был ремонт или нет, а восстановить их никак нельзя."
   ]
  },
  {
   "cell_type": "code",
   "execution_count": 21,
   "metadata": {},
   "outputs": [],
   "source": [
    "data.loc[:,'not_repaired'] = data['not_repaired'].fillna('unknown')"
   ]
  },
  {
   "cell_type": "markdown",
   "metadata": {},
   "source": [
    "Теперь рассмотрим `price`. Там существуют нулевые цены, то есть, мы не знаем что именно хотел хозяин автомобиля - избавиться от него, чтобы не оплачивать утилизацию или просто побыстрее отдать автомобиль. Модель может неправильно понять нулевую цену (а это наш целевой признак), поэтому считаем целесообразным удалить все строки с нулевой ценой."
   ]
  },
  {
   "cell_type": "code",
   "execution_count": 22,
   "metadata": {},
   "outputs": [],
   "source": [
    "data.loc[:,:] = data[data['price']>0]"
   ]
  },
  {
   "cell_type": "markdown",
   "metadata": {},
   "source": [
    "Остальные пропущенные значения мы удалим."
   ]
  },
  {
   "cell_type": "code",
   "execution_count": 23,
   "metadata": {},
   "outputs": [
    {
     "name": "stdout",
     "output_type": "stream",
     "text": [
      "Размер датасета (306786, 16). Удалено 13.43% строк.\n"
     ]
    }
   ],
   "source": [
    "data = data.dropna().reset_index(drop=True)\n",
    "print(f'Размер датасета {data.shape}. Удалено {round((data_rows_begin-data.shape[0])/data_rows_begin*100,2)}% строк.')"
   ]
  },
  {
   "cell_type": "markdown",
   "metadata": {},
   "source": [
    "По итогам предобработки данных нам удалось восстановить некоторое количество данных, при этом мы потеряли всего лишь 11.76% данных. Также при необходимости можно все пропущенные значения в категориальных переменных заменить на `unknown`, но это может перегрузить модель и негативно отразиться на качестве предсказаний."
   ]
  },
  {
   "cell_type": "code",
   "execution_count": 24,
   "metadata": {},
   "outputs": [],
   "source": [
    "del data_clean"
   ]
  },
  {
   "cell_type": "markdown",
   "metadata": {},
   "source": [
    "### Подготовка данных"
   ]
  },
  {
   "cell_type": "markdown",
   "metadata": {},
   "source": [
    "Подготовим данные для обучения модели. Выделим признаки и целевой признак в отдельные переменные, разобьём категориальные переменные и масштабируем количественные."
   ]
  },
  {
   "cell_type": "markdown",
   "metadata": {},
   "source": [
    "В качестве признаков для обучения модели выберем следующие:\n",
    "* vehicle_type\n",
    "* registration_year\n",
    "* gearbox\n",
    "* power\n",
    "* model\n",
    "* kilometer\n",
    "* fuel_type\n",
    "* brand\n",
    "* not_repaired"
   ]
  },
  {
   "cell_type": "code",
   "execution_count": 25,
   "metadata": {},
   "outputs": [],
   "source": [
    "features = data[['vehicle_type', 'registration_year', 'gearbox','power', 'model', 'kilometer', 'fuel_type', 'brand',\n",
    "                 'not_repaired']]\n",
    "target = data['price']"
   ]
  },
  {
   "cell_type": "markdown",
   "metadata": {},
   "source": [
    "Категориальные переменные будем преобразовывать с помощью порядкового кодирования, из-за того, что например в `vehicle_type` или `model` с помощью метода \"OHE\" получится огромное количество столбцов. `postal_code`, не смотря на то, что состоит из чисел, тоже является категориальной переменной - это привязка к месту продажи, почтовый индекс."
   ]
  },
  {
   "cell_type": "code",
   "execution_count": 26,
   "metadata": {},
   "outputs": [],
   "source": [
    "encoder = OrdinalEncoder()"
   ]
  },
  {
   "cell_type": "code",
   "execution_count": 27,
   "metadata": {},
   "outputs": [],
   "source": [
    "columns_oe = ['vehicle_type', 'model', 'brand']\n",
    "categorial_columns = features[columns_oe]\n",
    "features[columns_oe] = pd.DataFrame(encoder.fit_transform(features[columns_oe]), columns=categorial_columns.columns)"
   ]
  },
  {
   "cell_type": "markdown",
   "metadata": {},
   "source": [
    "Столбцы `vehicle_type`, `gearbox`, `fuel_type` и `not_repaired` закодируем с помощью прямого кодирования."
   ]
  },
  {
   "cell_type": "code",
   "execution_count": 28,
   "metadata": {},
   "outputs": [],
   "source": [
    "columns_ohe = ['gearbox','fuel_type','not_repaired']\n",
    "ohe_columns = features[columns_ohe]\n",
    "features_ohe = pd.get_dummies(features[columns_ohe], drop_first=True)"
   ]
  },
  {
   "cell_type": "markdown",
   "metadata": {},
   "source": [
    "Объединим признаки с порядковым значением с признаками с прямым кодированием."
   ]
  },
  {
   "cell_type": "code",
   "execution_count": 29,
   "metadata": {},
   "outputs": [],
   "source": [
    "features = features.drop(columns=columns_ohe)\n",
    "features = features.join(features_ohe)"
   ]
  },
  {
   "cell_type": "markdown",
   "metadata": {},
   "source": [
    "Теперь разделим на обучающую и валидационную выборки:"
   ]
  },
  {
   "cell_type": "code",
   "execution_count": 30,
   "metadata": {},
   "outputs": [],
   "source": [
    "r = 42\n",
    "features_train, features_valid, target_train, target_valid = train_test_split(features, target, random_state=r, test_size=.25)"
   ]
  },
  {
   "cell_type": "markdown",
   "metadata": {},
   "source": [
    "И после разделения масштабируем признаки `registration_year`,`power`,`kilometer`"
   ]
  },
  {
   "cell_type": "code",
   "execution_count": 31,
   "metadata": {},
   "outputs": [],
   "source": [
    "scaled_columns = ['registration_year','power','kilometer']\n",
    "scaler = StandardScaler()\n",
    "scaler.fit(features_train[scaled_columns])\n",
    "features_train.loc[:, scaled_columns] = scaler.transform(features_train[scaled_columns])\n",
    "features_valid.loc[:, scaled_columns] = scaler.transform(features_valid[scaled_columns])"
   ]
  },
  {
   "cell_type": "code",
   "execution_count": 32,
   "metadata": {},
   "outputs": [
    {
     "data": {
      "text/html": [
       "<div>\n",
       "<style scoped>\n",
       "    .dataframe tbody tr th:only-of-type {\n",
       "        vertical-align: middle;\n",
       "    }\n",
       "\n",
       "    .dataframe tbody tr th {\n",
       "        vertical-align: top;\n",
       "    }\n",
       "\n",
       "    .dataframe thead th {\n",
       "        text-align: right;\n",
       "    }\n",
       "</style>\n",
       "<table border=\"1\" class=\"dataframe\">\n",
       "  <thead>\n",
       "    <tr style=\"text-align: right;\">\n",
       "      <th></th>\n",
       "      <th>vehicle_type</th>\n",
       "      <th>registration_year</th>\n",
       "      <th>power</th>\n",
       "      <th>model</th>\n",
       "      <th>kilometer</th>\n",
       "      <th>brand</th>\n",
       "      <th>gearbox_manual</th>\n",
       "      <th>fuel_type_electric</th>\n",
       "      <th>fuel_type_gasoline</th>\n",
       "      <th>fuel_type_hybrid</th>\n",
       "      <th>fuel_type_lpg</th>\n",
       "      <th>fuel_type_other</th>\n",
       "      <th>fuel_type_petrol</th>\n",
       "      <th>not_repaired_unknown</th>\n",
       "      <th>not_repaired_yes</th>\n",
       "    </tr>\n",
       "  </thead>\n",
       "  <tbody>\n",
       "    <tr>\n",
       "      <th>173567</th>\n",
       "      <td>7.0</td>\n",
       "      <td>-0.101143</td>\n",
       "      <td>0.321943</td>\n",
       "      <td>35.0</td>\n",
       "      <td>0.582652</td>\n",
       "      <td>1.0</td>\n",
       "      <td>1</td>\n",
       "      <td>0</td>\n",
       "      <td>0</td>\n",
       "      <td>0</td>\n",
       "      <td>0</td>\n",
       "      <td>0</td>\n",
       "      <td>1</td>\n",
       "      <td>0</td>\n",
       "      <td>0</td>\n",
       "    </tr>\n",
       "    <tr>\n",
       "      <th>214778</th>\n",
       "      <td>7.0</td>\n",
       "      <td>-0.101143</td>\n",
       "      <td>0.637294</td>\n",
       "      <td>187.0</td>\n",
       "      <td>0.582652</td>\n",
       "      <td>37.0</td>\n",
       "      <td>1</td>\n",
       "      <td>0</td>\n",
       "      <td>1</td>\n",
       "      <td>0</td>\n",
       "      <td>0</td>\n",
       "      <td>0</td>\n",
       "      <td>0</td>\n",
       "      <td>0</td>\n",
       "      <td>0</td>\n",
       "    </tr>\n",
       "    <tr>\n",
       "      <th>286389</th>\n",
       "      <td>4.0</td>\n",
       "      <td>-0.419026</td>\n",
       "      <td>0.969242</td>\n",
       "      <td>19.0</td>\n",
       "      <td>0.582652</td>\n",
       "      <td>2.0</td>\n",
       "      <td>1</td>\n",
       "      <td>0</td>\n",
       "      <td>0</td>\n",
       "      <td>0</td>\n",
       "      <td>0</td>\n",
       "      <td>0</td>\n",
       "      <td>1</td>\n",
       "      <td>0</td>\n",
       "      <td>0</td>\n",
       "    </tr>\n",
       "    <tr>\n",
       "      <th>190661</th>\n",
       "      <td>5.0</td>\n",
       "      <td>0.534623</td>\n",
       "      <td>-0.225773</td>\n",
       "      <td>44.0</td>\n",
       "      <td>-0.100982</td>\n",
       "      <td>23.0</td>\n",
       "      <td>1</td>\n",
       "      <td>0</td>\n",
       "      <td>0</td>\n",
       "      <td>0</td>\n",
       "      <td>0</td>\n",
       "      <td>0</td>\n",
       "      <td>1</td>\n",
       "      <td>0</td>\n",
       "      <td>1</td>\n",
       "    </tr>\n",
       "    <tr>\n",
       "      <th>229536</th>\n",
       "      <td>7.0</td>\n",
       "      <td>-0.736909</td>\n",
       "      <td>-0.358552</td>\n",
       "      <td>187.0</td>\n",
       "      <td>0.582652</td>\n",
       "      <td>37.0</td>\n",
       "      <td>1</td>\n",
       "      <td>0</td>\n",
       "      <td>1</td>\n",
       "      <td>0</td>\n",
       "      <td>0</td>\n",
       "      <td>0</td>\n",
       "      <td>0</td>\n",
       "      <td>0</td>\n",
       "      <td>0</td>\n",
       "    </tr>\n",
       "  </tbody>\n",
       "</table>\n",
       "</div>"
      ],
      "text/plain": [
       "        vehicle_type  registration_year     power  model  kilometer  brand  \\\n",
       "173567           7.0          -0.101143  0.321943   35.0   0.582652    1.0   \n",
       "214778           7.0          -0.101143  0.637294  187.0   0.582652   37.0   \n",
       "286389           4.0          -0.419026  0.969242   19.0   0.582652    2.0   \n",
       "190661           5.0           0.534623 -0.225773   44.0  -0.100982   23.0   \n",
       "229536           7.0          -0.736909 -0.358552  187.0   0.582652   37.0   \n",
       "\n",
       "        gearbox_manual  fuel_type_electric  fuel_type_gasoline  \\\n",
       "173567               1                   0                   0   \n",
       "214778               1                   0                   1   \n",
       "286389               1                   0                   0   \n",
       "190661               1                   0                   0   \n",
       "229536               1                   0                   1   \n",
       "\n",
       "        fuel_type_hybrid  fuel_type_lpg  fuel_type_other  fuel_type_petrol  \\\n",
       "173567                 0              0                0                 1   \n",
       "214778                 0              0                0                 0   \n",
       "286389                 0              0                0                 1   \n",
       "190661                 0              0                0                 1   \n",
       "229536                 0              0                0                 0   \n",
       "\n",
       "        not_repaired_unknown  not_repaired_yes  \n",
       "173567                     0                 0  \n",
       "214778                     0                 0  \n",
       "286389                     0                 0  \n",
       "190661                     0                 1  \n",
       "229536                     0                 0  "
      ]
     },
     "execution_count": 32,
     "metadata": {},
     "output_type": "execute_result"
    }
   ],
   "source": [
    "features_train.head()"
   ]
  },
  {
   "cell_type": "markdown",
   "metadata": {},
   "source": [
    "Теперь наши данные готовы к обучению."
   ]
  },
  {
   "cell_type": "markdown",
   "metadata": {},
   "source": [
    "## Обучение моделей"
   ]
  },
  {
   "cell_type": "markdown",
   "metadata": {},
   "source": [
    "Попробуем несколько моделей: случайный лес в регрессии и линейную регрессию. В роли метрики возьмём RMSE - квадратный корень из средней квадратичной ошибки."
   ]
  },
  {
   "cell_type": "markdown",
   "metadata": {},
   "source": [
    "### Дерево решений"
   ]
  },
  {
   "cell_type": "code",
   "execution_count": 33,
   "metadata": {},
   "outputs": [
    {
     "name": "stdout",
     "output_type": "stream",
     "text": [
      "RMSE Дерева решений в регрессии: 1734.64\n",
      "Wall time: 1.46 s\n"
     ]
    }
   ],
   "source": [
    "%%time\n",
    "dt = DecisionTreeRegressor(max_depth=21, min_samples_split=8, min_samples_leaf=4, random_state=r)\n",
    "dt.fit(features_train, target_train)\n",
    "predictions_valid = dt.predict(features_valid)\n",
    "rmse_dt = round(mean_squared_error(predictions_valid, target_valid)**.5,2)\n",
    "print(f'RMSE Дерева решений в регрессии: {rmse_dt}')"
   ]
  },
  {
   "cell_type": "code",
   "execution_count": 34,
   "metadata": {},
   "outputs": [
    {
     "data": {
      "image/png": "[encoded data removed]",
      "text/plain": [
       "<Figure size 1152x360 with 1 Axes>"
      ]
     },
     "metadata": {
      "needs_background": "light"
     },
     "output_type": "display_data"
    }
   ],
   "source": [
    "importance_features(dt)"
   ]
  },
  {
   "cell_type": "markdown",
   "metadata": {},
   "source": [
    "### Случайный лес"
   ]
  },
  {
   "cell_type": "code",
   "execution_count": 35,
   "metadata": {},
   "outputs": [
    {
     "name": "stdout",
     "output_type": "stream",
     "text": [
      "RMSE Случайного леса в регрессии: 1551.44\n",
      "Wall time: 56.3 s\n"
     ]
    }
   ],
   "source": [
    "%%time\n",
    "rfr = RandomForestRegressor(n_estimators=51, max_depth=25,  min_samples_split=8, random_state=r)\n",
    "rfr.fit(features_train, target_train)\n",
    "predictions_valid = rfr.predict(features_valid)\n",
    "rmse_rfr = round(mean_squared_error(predictions_valid, target_valid)**.5,2)\n",
    "print(f'RMSE Случайного леса в регрессии: {rmse_rfr}')"
   ]
  },
  {
   "cell_type": "code",
   "execution_count": 36,
   "metadata": {},
   "outputs": [
    {
     "data": {
      "image/png": "[encoded data removed]",
      "text/plain": [
       "<Figure size 1152x360 with 1 Axes>"
      ]
     },
     "metadata": {
      "needs_background": "light"
     },
     "output_type": "display_data"
    }
   ],
   "source": [
    "importance_features(rfr)"
   ]
  },
  {
   "cell_type": "markdown",
   "metadata": {},
   "source": [
    "### Линейная регрессия"
   ]
  },
  {
   "cell_type": "code",
   "execution_count": 37,
   "metadata": {},
   "outputs": [
    {
     "name": "stdout",
     "output_type": "stream",
     "text": [
      "RMSE Линейной регрессии: 2990.35\n",
      "Wall time: 384 ms\n"
     ]
    }
   ],
   "source": [
    "%%time\n",
    "lr = LinearRegression()\n",
    "lr.fit(features_train, target_train)\n",
    "predictions_valid = lr.predict(features_valid)\n",
    "rmse_lr = round(mean_squared_error(predictions_valid, target_valid)**.5,2)\n",
    "print(f'RMSE Линейной регрессии: {rmse_lr}')"
   ]
  },
  {
   "cell_type": "markdown",
   "metadata": {},
   "source": [
    "### Сравнение с константной моделью"
   ]
  },
  {
   "cell_type": "markdown",
   "metadata": {},
   "source": [
    "Сравним RMSE, полученые от трёх моделей с константной моделью, где все значения будут равны среднему."
   ]
  },
  {
   "cell_type": "code",
   "execution_count": 40,
   "metadata": {},
   "outputs": [
    {
     "name": "stdout",
     "output_type": "stream",
     "text": [
      "RMSE константной модели: 4563.9\n"
     ]
    }
   ],
   "source": [
    "predictions_fict = pd.Series(target_valid.mean(), index=target_valid.index)\n",
    "rmse_fict = round(mean_squared_error(predictions_fict, target_valid)**.5,2)\n",
    "print(f'RMSE константной модели: {rmse_fict}')"
   ]
  },
  {
   "cell_type": "markdown",
   "metadata": {},
   "source": [
    "## Анализ моделей"
   ]
  },
  {
   "cell_type": "markdown",
   "metadata": {},
   "source": [
    "Проанализируем время затраченное за подбор гиперпараметров, обучение моделей и полученные RMSE:"
   ]
  },
  {
   "cell_type": "code",
   "execution_count": 41,
   "metadata": {},
   "outputs": [
    {
     "data": {
      "text/html": [
       "<div>\n",
       "<style scoped>\n",
       "    .dataframe tbody tr th:only-of-type {\n",
       "        vertical-align: middle;\n",
       "    }\n",
       "\n",
       "    .dataframe tbody tr th {\n",
       "        vertical-align: top;\n",
       "    }\n",
       "\n",
       "    .dataframe thead th {\n",
       "        text-align: right;\n",
       "    }\n",
       "</style>\n",
       "<table border=\"1\" class=\"dataframe\">\n",
       "  <thead>\n",
       "    <tr style=\"text-align: right;\">\n",
       "      <th></th>\n",
       "      <th>Модель</th>\n",
       "      <th>RMSE</th>\n",
       "    </tr>\n",
       "  </thead>\n",
       "  <tbody>\n",
       "    <tr>\n",
       "      <th>0</th>\n",
       "      <td>Случайный лес</td>\n",
       "      <td>1551.44</td>\n",
       "    </tr>\n",
       "    <tr>\n",
       "      <th>1</th>\n",
       "      <td>Дерево решений</td>\n",
       "      <td>1734.64</td>\n",
       "    </tr>\n",
       "    <tr>\n",
       "      <th>2</th>\n",
       "      <td>Линейная регрессия</td>\n",
       "      <td>2990.35</td>\n",
       "    </tr>\n",
       "    <tr>\n",
       "      <th>3</th>\n",
       "      <td>Константная модель</td>\n",
       "      <td>4563.90</td>\n",
       "    </tr>\n",
       "  </tbody>\n",
       "</table>\n",
       "</div>"
      ],
      "text/plain": [
       "               Модель     RMSE\n",
       "0       Случайный лес  1551.44\n",
       "1      Дерево решений  1734.64\n",
       "2  Линейная регрессия  2990.35\n",
       "3  Константная модель  4563.90"
      ]
     },
     "execution_count": 41,
     "metadata": {},
     "output_type": "execute_result"
    }
   ],
   "source": [
    "analysis = [['Дерево решений', rmse_dt],\n",
    "            ['Случайный лес', rmse_rfr],\n",
    "            ['Линейная регрессия', rmse_lr],\n",
    "            ['Константная модель', rmse_fict]]\n",
    "columns = ['Модель','RMSE']\n",
    "analysis_data = pd.DataFrame(data=analysis, columns=columns)\n",
    "analysis_data.sort_values(by='RMSE', axis=0).reset_index(drop=True)"
   ]
  },
  {
   "cell_type": "code",
   "execution_count": 45,
   "metadata": {},
   "outputs": [
    {
     "data": {
      "image/png": "[encoded data removed]",
      "text/plain": [
       "<Figure size 1152x360 with 1 Axes>"
      ]
     },
     "metadata": {
      "needs_background": "light"
     },
     "output_type": "display_data"
    }
   ],
   "source": [
    "plt.figure(figsize=(16,5))\n",
    "ax = sns.barplot(x=analysis_data['Модель'], y=analysis_data['RMSE'])\n",
    "ax.grid(True)\n",
    "plt.show()"
   ]
  },
  {
   "cell_type": "markdown",
   "metadata": {},
   "source": [
    "Все модели прошли проверку с константной моделью. Линейная регрессия хороша скоростью, но среднее отклонение составляет почти в 3000 евро. При этом у дерева решений и случайного леса гораздо лучше результат (отклонение порядка 1500 евро), но при этом время обучения и предсказания значений уступают скорости линейной регрессии.\n",
    "\n",
    "Проанализировав важность признаков для обучения модели видно, что двумя важнейшими признаками для обучения являются год регистрации автомобиля и мощность (чем новее и мощнее машина - тем дороже). Отсюда можем сделать вывод, что модель можно улучшить, привнеся новые признаки, например, категоризацию по году регистрации и по мощности."
   ]
  }
 ],
 "metadata": {
  "kernelspec": {
   "display_name": "Python 3",
   "language": "python",
   "name": "python3"
  },
  "language_info": {
   "codemirror_mode": {
    "name": "ipython",
    "version": 3
   },
   "file_extension": ".py",
   "mimetype": "text/x-python",
   "name": "python",
   "nbconvert_exporter": "python",
   "pygments_lexer": "ipython3",
   "version": "3.8.3"
  },
  "toc": {
   "base_numbering": 1,
   "nav_menu": {},
   "number_sections": true,
   "sideBar": true,
   "skip_h1_title": true,
   "title_cell": "Table of Contents",
   "title_sidebar": "Contents",
   "toc_cell": false,
   "toc_position": {
    "height": "calc(100% - 180px)",
    "left": "10px",
    "top": "150px",
    "width": "366.391px"
   },
   "toc_section_display": true,
   "toc_window_display": true
  }
 },
 "nbformat": 4,
 "nbformat_minor": 2
}
